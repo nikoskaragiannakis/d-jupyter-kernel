{
 "cells": [
  {
   "cell_type": "code",
   "execution_count": 1,
   "metadata": {},
   "outputs": [],
   "source": [
    "import std.stdio;\n",
    "\n",
    "void foo(){\n",
    "    writeln(\"I am foo!\");\n",
    "}"
   ]
  },
  {
   "cell_type": "code",
   "execution_count": 2,
   "metadata": {},
   "outputs": [],
   "source": [
    "void foo2(){\n",
    "    writeln(\"I am foo2!\");\n",
    "}"
   ]
  },
  {
   "cell_type": "code",
   "execution_count": 3,
   "metadata": {},
   "outputs": [
    {
     "name": "stdout",
     "output_type": "stream",
     "text": [
      "I am foo!\n"
     ]
    }
   ],
   "source": [
    "foo();"
   ]
  },
  {
   "cell_type": "code",
   "execution_count": 4,
   "metadata": {},
   "outputs": [
    {
     "name": "stdout",
     "output_type": "stream",
     "text": [
      "I am foo2!\n"
     ]
    }
   ],
   "source": [
    "foo2();"
   ]
  },
  {
   "cell_type": "code",
   "execution_count": 5,
   "metadata": {},
   "outputs": [],
   "source": [
    "int addition(int a, int b){\n",
    "    return a+b;\n",
    "}"
   ]
  },
  {
   "cell_type": "code",
   "execution_count": 6,
   "metadata": {},
   "outputs": [
    {
     "name": "stdout",
     "output_type": "stream",
     "text": [
      "6\n"
     ]
    }
   ],
   "source": [
    "writeln(addition(4, 2));"
   ]
  }
 ],
 "metadata": {
  "kernelspec": {
   "display_name": "D",
   "language": "d",
   "name": "bash"
  },
  "language_info": {
   "file_extension": ".d",
   "mimetype": "text/plain",
   "name": "d"
  }
 },
 "nbformat": 4,
 "nbformat_minor": 2
}
