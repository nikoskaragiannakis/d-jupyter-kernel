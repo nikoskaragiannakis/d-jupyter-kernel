{
 "cells": [
  {
   "cell_type": "code",
   "execution_count": 12,
   "metadata": {},
   "outputs": [
    {
     "name": "stdout",
     "output_type": "stream",
     "text": [
      "2*3=6\n"
     ]
    }
   ],
   "source": [
    "import std.stdio;\n",
    "\n",
    "\n",
    "int foo(int a, int b) {\n",
    "    return a*b;\n",
    "}\n",
    "\n",
    "void main() {\n",
    "    int a = 2;\n",
    "    int b = 3;\n",
    "    writefln(\"%s*%s=%s\", a, b, foo(a, b));\n",
    "}"
   ]
  }
 ],
 "metadata": {
  "kernelspec": {
   "display_name": "D",
   "language": "d",
   "name": "bash"
  },
  "language_info": {
   "file_extension": ".d",
   "mimetype": "text/plain",
   "name": "d"
  }
 },
 "nbformat": 4,
 "nbformat_minor": 2
}
