{
 "cells": [
  {
   "cell_type": "code",
   "execution_count": 1,
   "metadata": {},
   "outputs": [
    {
     "name": "stdout",
     "output_type": "stream",
     "text": [
      "Hello, world!\n"
     ]
    }
   ],
   "source": [
    "import std.stdio;\n",
    "\n",
    "void main(){\n",
    "    writeln(\"Hello, world!\");\n",
    "}"
   ]
  },
  {
   "cell_type": "code",
   "execution_count": 2,
   "metadata": {},
   "outputs": [
    {
     "name": "stdout",
     "output_type": "stream",
     "text": [
      "line(4): Deprecation: Implicit string concatenation is deprecated, use \"foo\" ~ \"bar\" instead\n",
      "line(6): Error: found `}` when expecting `;` following statement\n",
      "line(6): Error: found `EOF` when expecting `}` following compound statement\n"
     ]
    }
   ],
   "source": [
    "void main(){\n",
    "    writeln(\"Hello, world!\");\n",
    "    writeln(\"foo\"\n",
    "            \"bar\");\n",
    "    writeln(\"oops\")\n",
    "}"
   ]
  }
 ],
 "metadata": {
  "kernelspec": {
   "display_name": "D",
   "language": "d",
   "name": "bash"
  },
  "language_info": {
   "file_extension": ".d",
   "mimetype": "text/plain",
   "name": "d"
  }
 },
 "nbformat": 4,
 "nbformat_minor": 2
}
